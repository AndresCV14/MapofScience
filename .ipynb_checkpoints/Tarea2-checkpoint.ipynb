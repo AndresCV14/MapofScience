{
 "cells": [
  {
   "cell_type": "markdown",
   "id": "a198f470-7a6b-43d9-a0bd-bb57f62d21bf",
   "metadata": {},
   "source": [
    "# Tarea 2 - Parcial #\n",
    "## Calderón Velasco Andrés Sebastian ##\n",
    "### 16 de febrero de 2022 ###\n",
    "Basado en las sesiones de Visualización de datos y Expresiones resulares. Realice una adaptación de la solución del MAP OF SCIENCE. Se requiere dos adaptaciones para resolver esta actividad:\n",
    "\n",
    "1. Buscar bibliografía de un tema de interés propio en la Página Web de PubMed,\n",
    "2. Realizar el minado de autores por país (en el ejemplo se encuentra realziado por las ciudades de USA).\n",
    "3. Para asignar las ubicación geográfica de los centroides de cada país (latitud y longitud), utilice la tabla Ubicación Geográfica de Países - Google Developer. Así como en la solución de referencia se señalan varias ciudades seleccionadas de USA.\n",
    "4. En su resolución señale/resalte a los siguientes países: USA, UK, Brazil, China, Australia, Norway.\n",
    "Cargue su cuaderno de Jupyter en GitHub, asegurandose de lo siguiente:\n",
    "\n",
    "- En el documento se puede ver con claridad el Mapa de Ciencia de su tema de interés.\n",
    "- La figura tiene etiquetas adecuadas en los ejes de la visualización.\n",
    "- Se tiene al menos tres controles de la versión (3 commit con mensajes adecuados sobre la versión."
   ]
  },
  {
   "cell_type": "code",
   "execution_count": 22,
   "id": "366ec6f3-690f-4b21-9f0f-21009aac8a10",
   "metadata": {},
   "outputs": [
    {
     "ename": "FileNotFoundError",
     "evalue": "[Errno 2] No such file or directory: '../data/pubmed-plantsomat-set.txt'",
     "output_type": "error",
     "traceback": [
      "\u001b[1;31m---------------------------------------------------------------------------\u001b[0m",
      "\u001b[1;31mFileNotFoundError\u001b[0m                         Traceback (most recent call last)",
      "\u001b[1;32m<ipython-input-22-ed21684f39b4>\u001b[0m in \u001b[0;36m<module>\u001b[1;34m\u001b[0m\n\u001b[0;32m      2\u001b[0m \u001b[1;32mimport\u001b[0m \u001b[0mcsv\u001b[0m\u001b[1;33m\u001b[0m\u001b[1;33m\u001b[0m\u001b[0m\n\u001b[0;32m      3\u001b[0m \u001b[1;33m\u001b[0m\u001b[0m\n\u001b[1;32m----> 4\u001b[1;33m \u001b[1;32mwith\u001b[0m \u001b[0mopen\u001b[0m\u001b[1;33m(\u001b[0m\u001b[1;34m'../data/pubmed-plantsomat-set.txt'\u001b[0m\u001b[1;33m)\u001b[0m \u001b[1;32mas\u001b[0m \u001b[0mf\u001b[0m\u001b[1;33m:\u001b[0m\u001b[1;33m\u001b[0m\u001b[1;33m\u001b[0m\u001b[0m\n\u001b[0m\u001b[0;32m      5\u001b[0m     \u001b[0mtexto1\u001b[0m \u001b[1;33m=\u001b[0m \u001b[0mf\u001b[0m\u001b[1;33m.\u001b[0m\u001b[0mread\u001b[0m\u001b[1;33m(\u001b[0m\u001b[1;33m)\u001b[0m\u001b[1;33m\u001b[0m\u001b[1;33m\u001b[0m\u001b[0m\n",
      "\u001b[1;31mFileNotFoundError\u001b[0m: [Errno 2] No such file or directory: '../data/pubmed-plantsomat-set.txt'"
     ]
    }
   ],
   "source": [
    "import re\n",
    "import csv\n",
    "\n",
    "with open('../Tarea-2-Map.data/pubmed-plantsomat-set.txt') as f:\n",
    "    texto1 = f.read()"
   ]
  },
  {
   "cell_type": "code",
   "execution_count": null,
   "id": "064a57b5-6d88-41a7-9d35-ca987e42db26",
   "metadata": {},
   "outputs": [],
   "source": []
  },
  {
   "cell_type": "code",
   "execution_count": null,
   "id": "571a2932-48e8-4107-aa0f-6bade8aa5fed",
   "metadata": {},
   "outputs": [],
   "source": []
  }
 ],
 "metadata": {
  "kernelspec": {
   "display_name": "Python 3",
   "language": "python",
   "name": "python3"
  },
  "language_info": {
   "codemirror_mode": {
    "name": "ipython",
    "version": 3
   },
   "file_extension": ".py",
   "mimetype": "text/x-python",
   "name": "python",
   "nbconvert_exporter": "python",
   "pygments_lexer": "ipython3",
   "version": "3.8.8"
  }
 },
 "nbformat": 4,
 "nbformat_minor": 5
}
