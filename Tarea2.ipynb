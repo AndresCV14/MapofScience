{
 "cells": [
  {
   "cell_type": "markdown",
   "id": "a198f470-7a6b-43d9-a0bd-bb57f62d21bf",
   "metadata": {},
   "source": [
    "# Tarea 2 - Parcial #\n",
    "## Calderón Velasco Andrés Sebastian ##\n",
    "### 16 de febrero de 2022 ###\n",
    "Basado en las sesiones de Visualización de datos y Expresiones resulares. Realice una adaptación de la solución del MAP OF SCIENCE. Se requiere dos adaptaciones para resolver esta actividad:\n",
    "\n",
    "1. Buscar bibliografía de un tema de interés propio en la Página Web de PubMed,\n",
    "2. Realizar el minado de autores por país (en el ejemplo se encuentra realziado por las ciudades de USA).\n",
    "3. Para asignar las ubicación geográfica de los centroides de cada país (latitud y longitud), utilice la tabla Ubicación Geográfica de Países - Google Developer. Así como en la solución de referencia se señalan varias ciudades seleccionadas de USA.\n",
    "4. En su resolución señale/resalte a los siguientes países: USA, UK, Brazil, China, Australia, Norway.\n",
    "Cargue su cuaderno de Jupyter en GitHub, asegurandose de lo siguiente:\n",
    "\n",
    "- En el documento se puede ver con claridad el Mapa de Ciencia de su tema de interés.\n",
    "- La figura tiene etiquetas adecuadas en los ejes de la visualización.\n",
    "- Se tiene al menos tres controles de la versión (3 commit con mensajes adecuados sobre la versión."
   ]
  },
  {
   "cell_type": "code",
   "execution_count": 20,
   "id": "366ec6f3-690f-4b21-9f0f-21009aac8a10",
   "metadata": {},
   "outputs": [],
   "source": [
    "import re\n",
    "import csv"
   ]
  },
  {
   "cell_type": "code",
   "execution_count": 24,
   "id": "064a57b5-6d88-41a7-9d35-ca987e42db26",
   "metadata": {},
   "outputs": [],
   "source": [
    "with open('pubmed_results.txt', errors = 'ignore') as f:\n",
    "    my_text = f.read()"
   ]
  },
  {
   "cell_type": "code",
   "execution_count": 25,
   "id": "571a2932-48e8-4107-aa0f-6bade8aa5fed",
   "metadata": {},
   "outputs": [
    {
     "data": {
      "text/plain": [
       "1120347"
      ]
     },
     "execution_count": 25,
     "metadata": {},
     "output_type": "execute_result"
    }
   ],
   "source": [
    "len(my_text)"
   ]
  },
  {
   "cell_type": "code",
   "execution_count": null,
   "id": "21d92bb5-a4b6-4ac4-b3b4-b8f957b35d3b",
   "metadata": {},
   "outputs": [],
   "source": []
  }
 ],
 "metadata": {
  "kernelspec": {
   "display_name": "Python 3",
   "language": "python",
   "name": "python3"
  },
  "language_info": {
   "codemirror_mode": {
    "name": "ipython",
    "version": 3
   },
   "file_extension": ".py",
   "mimetype": "text/x-python",
   "name": "python",
   "nbconvert_exporter": "python",
   "pygments_lexer": "ipython3",
   "version": "3.8.8"
  }
 },
 "nbformat": 4,
 "nbformat_minor": 5
}
