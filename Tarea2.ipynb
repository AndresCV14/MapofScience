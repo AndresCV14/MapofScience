{
 "cells": [
  {
   "cell_type": "markdown",
   "id": "a198f470-7a6b-43d9-a0bd-bb57f62d21bf",
   "metadata": {},
   "source": [
    "# Tarea 2 - Parcial #\n",
    "## Calderón Velasco Andrés Sebastian ##\n",
    "### 16 de febrero de 2022 ###\n",
    "Basado en las sesiones de Visualización de datos y Expresiones resulares. Realice una adaptación de la solución del MAP OF SCIENCE. Se requiere dos adaptaciones para resolver esta actividad:\n",
    "\n",
    "1. Buscar bibliografía de un tema de interés propio en la Página Web de PubMed,\n",
    "2. Realizar el minado de autores por país (en el ejemplo se encuentra realziado por las ciudades de USA).\n",
    "3. Para asignar las ubicación geográfica de los centroides de cada país (latitud y longitud), utilice la tabla Ubicación Geográfica de Países - Google Developer. Así como en la solución de referencia se señalan varias ciudades seleccionadas de USA.\n",
    "4. En su resolución señale/resalte a los siguientes países: USA, UK, Brazil, China, Australia, Norway.\n",
    "Cargue su cuaderno de Jupyter en GitHub, asegurandose de lo siguiente:\n",
    "\n",
    "- En el documento se puede ver con claridad el Mapa de Ciencia de su tema de interés.\n",
    "- La figura tiene etiquetas adecuadas en los ejes de la visualización.\n",
    "- Se tiene al menos tres controles de la versión (3 commit con mensajes adecuados sobre la versión."
   ]
  },
  {
   "cell_type": "code",
   "execution_count": 20,
   "id": "366ec6f3-690f-4b21-9f0f-21009aac8a10",
   "metadata": {},
   "outputs": [],
   "source": [
    "import re\n",
    "import itertools\n",
    "import csv"
   ]
  },
  {
   "cell_type": "code",
   "execution_count": 26,
   "id": "064a57b5-6d88-41a7-9d35-ca987e42db26",
   "metadata": {},
   "outputs": [],
   "source": [
    "with open('pubmed_results.txt', errors = 'ignore') as f:\n",
    "    mi_pubmed = f.read()"
   ]
  },
  {
   "cell_type": "code",
   "execution_count": 27,
   "id": "571a2932-48e8-4107-aa0f-6bade8aa5fed",
   "metadata": {},
   "outputs": [
    {
     "data": {
      "text/plain": [
       "1120347"
      ]
     },
     "execution_count": 27,
     "metadata": {},
     "output_type": "execute_result"
    }
   ],
   "source": [
    "len(mi_pubmed)"
   ]
  },
  {
   "cell_type": "code",
   "execution_count": 42,
   "id": "21d92bb5-a4b6-4ac4-b3b4-b8f957b35d3b",
   "metadata": {},
   "outputs": [
    {
     "name": "stdout",
     "output_type": "stream",
     "text": [
      "[', Argentina.', ', Australia.', ', Brazil.', ', Canada.', ', Chile.', ', China.', ', Col.', ', Croatia.', ', Ctra.', ', Ecuador.', ', Egypt.', ', Engesserstr.', ', Eucgr.', ', Finland.', ', France.', ', Germany.', ', Gto.', ', Inc.', ', India.', ', Indonesia.', ', Iran.', ', Italy.', ', Jacq.', ', Japan.', ', Kenya.', ', LLC.', ', Lebanon.', ', Ltd.', ', MSTRG.', ', Malaysia.', ', Mexico.', ', Morocco.', ', Netherlands.', ', Pakistan.', ', Poland.', ', Portugal.', ', ROC.', ', Russia.', ', Serbia.', ', Spain.', ', Sweden.', ', Thailand.', ', USA.', ', Ukraine.', ', Vietnam.']\n",
      "\n",
      "Ejemplos de como se vera la lista de países:  [', Argentina.', ', Australia.', ', Brazil.', ', Canada.', ', Chile.', ', China.', ', Croatia.', ', Ecuador.', ', Egypt.', ', Finland.', ', France.', ', Germany.', ', India.', ', Indonesia.', ', Iran.', ', Italy.', ', Japan.', ', Kenya.', ', Lebanon.', ', Malaysia.']\n",
      "\n",
      "Los 15 primeros caracteres de la lista de países son:  ['Argentina', 'Australia', 'Brazil', 'Canada', 'Chile', 'China', 'Croatia', 'Ecuador', 'Finland', 'France', 'Germany', 'India', 'Indonesia', 'Iran', 'Italy']\n"
     ]
    }
   ],
   "source": [
    "# Minado paises\n",
    "mi_pubmed = re.sub(r'\\n\\s{6}', ' ', mi_pubmed)\n",
    "\n",
    "# Se extraen los países\n",
    "pub1 = re.findall(r\"\\,\\s[A-Z]+[A-z]{2,11}\\.\", mi_pubmed)\n",
    "textounico = list(set(pub1))\n",
    "textounico.sort()\n",
    "a = textounico\n",
    "# Se observan los países que se repiten y si hay elementos intrusos que no son países\n",
    "print(a) \n",
    "    \n",
    "# Se elimina lo que no coincide con un país y repeticiones:\n",
    "b = textounico\n",
    "b.remove(', LLC.')\n",
    "b.remove(', Col.')\n",
    "b.remove(', Jacq.')\n",
    "b.remove(', Inc.')\n",
    "b.remove(', Gto.')\n",
    "b.remove(', Ltd.')\n",
    "b.remove(', MSTRG.')\n",
    "b.remove(', ROC.')\n",
    "b.remove(', Ctra.')\n",
    "b.remove(', Eucgr.')\n",
    "b.remove(', Engesserstr.')\n",
    "print() # Enter\n",
    "# Vemos la lista sin intrusos, se impriemen solo los 20 primeros terminos\n",
    "print('Ejemplos de como se vera la lista de países: ', b[:20]) \n",
    "    \n",
    "# Eliminar los caracteres que no deberían estar\n",
    "    \n",
    "c = \"\".join(b)\n",
    "d = c.split(\", \")\n",
    "e = \"\".join(d)\n",
    "f = e.split(\".\")\n",
    "f.pop(8)\n",
    "unique_zipcodes = f\n",
    "print()\n",
    "# imprimimos los 15 primeros elementos de la lista como verficación\n",
    "print('Los 15 primeros caracteres de la lista de países son: ', unique_zipcodes[:15])"
   ]
  },
  {
   "cell_type": "code",
   "execution_count": 43,
   "id": "ce501f10-4651-45ea-ac0e-9db78a51163c",
   "metadata": {},
   "outputs": [
    {
     "data": {
      "text/plain": [
       "34"
      ]
     },
     "execution_count": 43,
     "metadata": {},
     "output_type": "execute_result"
    }
   ],
   "source": [
    "len(unique_zipcodes) # número de paises "
   ]
  },
  {
   "cell_type": "code",
   "execution_count": 44,
   "id": "192f2bee-0adc-4460-b26b-5e36f9d01d39",
   "metadata": {},
   "outputs": [],
   "source": [
    "import pandas as pd # Se importa la libreria pandas para usar documentos de excel "
   ]
  },
  {
   "cell_type": "code",
   "execution_count": null,
   "id": "cd500934-8134-4270-8762-9620ce5e4da8",
   "metadata": {},
   "outputs": [],
   "source": [
    "# importación de la tabla con las coord\n",
    "data = pd.read_csv('./Paises_ubicacion.csv', engine='python', skipfooter=3)\n",
    "data.head(10)"
   ]
  }
 ],
 "metadata": {
  "kernelspec": {
   "display_name": "Python 3",
   "language": "python",
   "name": "python3"
  },
  "language_info": {
   "codemirror_mode": {
    "name": "ipython",
    "version": 3
   },
   "file_extension": ".py",
   "mimetype": "text/x-python",
   "name": "python",
   "nbconvert_exporter": "python",
   "pygments_lexer": "ipython3",
   "version": "3.8.8"
  }
 },
 "nbformat": 4,
 "nbformat_minor": 5
}
